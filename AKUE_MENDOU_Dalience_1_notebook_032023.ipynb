{
 "cells": [
  {
   "cell_type": "markdown",
   "id": "969371ed",
   "metadata": {},
   "source": [
    "## Projet 6 : Analysez les ventes d'une librairie avec R ou Python\n",
    "\n",
    "### Contexte: \n",
    "> Lapage est une librairie physique à l'origine mais qui a étendu ses activités en ligne en raison du succès de certains de ses produits et de l'enthousiasme de ses clients. Après deux ans d'exploitation de la boutique en ligne, **Lapage souhaite analyser ses forces et faiblesses, ainsi que le comportement de ses clients, pour déterminer sa position actuelle**. En tant que Consultant Data Analyst intégré au service Marketing, je suis chargé d'aider à analyser les données et de les présenter de manière claire et concise.\n",
    "\n",
    "### Mission: \n",
    "\n",
    ">Réaliser une **analyse des différents indicateurs de vente** pour Antoine:\n",
    "> 1. Les différents indicateurs et graphiques autour du chiffre d'affaires.\n",
    "> 2. L’évolution dans le temps et mettre en place une décomposition en moyenne mobile pour évaluer la tendance globale\n",
    "> 3. Faire un zoom sur les références, pour voir un peu les tops et les flops, la répartition par catégorie, etc.\n",
    "> 4. Quelques informations sur les profils de nos clients, et également la répartition du chiffre d'affaires entre eux, via par exemple une courbe de Lorenz. \n",
    "> 5. Les informations supplémentaires et tous graphiques qui apporteraient de l’information pertinente.\n",
    "\n",
    ">Réaliser une **analyse des correlations plus ciblée sur les clients** pour Julie :\n",
    "> 1. Le lien entre le genre d’un client et les catégories des livres achetés ;\n",
    "> 2. Le lien entre l’âge des clients et le montant total des achats, la fréquence d’achat, la taille du panier moyen et les catégories des livres achetés.\n",
    "\n",
    "## Notebook 1 : Importation et Nettoyage des Données\n",
    "\n",
    "> Dans ce notebook, nous allons importer les données de ventes de la librairie et nettoyer les données pour nous assurer qu'elles sont prêtes à être analysées.\n",
    "\n",
    "## Sommaire :\n",
    "\n",
    "\n",
    "### Partie 1: Importation, nettoyage et préparation des données (Notebook 1)\n",
    "\n",
    "### [1) Importation des données](#A1)\n",
    "### [2) Nettoyage et préparation des données](#A2)\n",
    "\n",
    "- [1.Table Produit](#A2.1)\n",
    "- [2.Table Client](#A2.2)\n",
    "- [3.Table Transaction](#A2.3)\n",
    " \n",
    "### Partie 2: Analyses des données pour Antoine (Notebook 2)\n",
    "\n",
    "#### [1. Analyse des indicateurs et graphiques autour du chiffre d'affaires](#B1)\n",
    "- [1.1. Calcul des indicateurs de Chriffre d'Affaires](#B1.1)\n",
    "- [1.2. Evolution du Chiffre d'Affaires par catégorie](#B1.2)\n",
    "- [1.3. Evolution du Chiffre d'Affaires par série temporelle](#B1.3)\n",
    "\n",
    "#### [2. Décomposition en moyenne mobile pour évaluer la tendance globale](#B2)\n",
    "\n",
    "#### [3. Tops et flops des références avec la répartition par catégorie](#B3)\n",
    "\n",
    "#### [4. Analyse des profils clients et répartition du chiffre d'affaires entre eux via une courbe de Lorenz](#B4)\n",
    "- [4.1. Analyse des profils clients](#B4.1)\n",
    "- [4.2. Répartition du Chiffre d'affaires par tranche d'âge et par sexe via la courbe de Lorenz](#B4.2)\n",
    "\n",
    "#### [5. Analyses supplémentaires](#B5)\n",
    "- [5.1. Répartition du Chiffre d'affaires par catégorie de produits](#B5.1)\n",
    "- [5.2. Pourcentage de Chiffre d'affaires que représente le TOP 10 des produits](#B5.2)\n",
    "- [5.3. Top 10 des clients](#B5.3)\n",
    "\n",
    "### Partie 3: Analyses des données pour Julie (Notebook 3)\n",
    "\n",
    "#### [1. Le lien entre le genre d’un client et les catégories des livres achetés](#C1)\n",
    "\n",
    "#### [2. Le lien entre l’âge des clients et le montant total des achats, la fréquence d’achat, la taille du panier moyen et les catégories des livres achetés](#C2)\n",
    "- [2.1. Le lien entre l’âge des clients et le montant total des achats](#C2.1)\n",
    "- [2.2. Le lien entre l’âge des clients et la fréquence d’achats](#C2.2)\n",
    "- [2.3. Le lien entre l'âge des clients et la taille du panier moyen](#C2.3)\n",
    "- [2.4. Le lien entre l’âge des clients et les catégories des livres achetés](#C2.4)\n"
   ]
  },
  {
   "cell_type": "markdown",
   "id": "972fa12c",
   "metadata": {},
   "source": [
    "## Partie 1: Importation, nettoyage et préparation des données\n",
    "\n",
    "### <a id=\"A1\">1) Importation des données</a>\n"
   ]
  },
  {
   "cell_type": "code",
   "execution_count": 1,
   "id": "ee8be4a6",
   "metadata": {},
   "outputs": [],
   "source": [
    "# Import des librairies et fonctions nécessaires aux analyses\n",
    "\n",
    "import pandas as pd\n",
    "import numpy as np\n",
    "import matplotlib.pyplot as plt\n",
    "import seaborn as sns\n",
    "import scipy.integrate as spi\n",
    "import warnings\n",
    "warnings.simplefilter(\"ignore\")\n",
    "from datetime import datetime\n",
    "from scipy.integrate import trapz\n",
    "import scipy.stats as stats\n",
    "from scipy.stats import f_oneway\n",
    "import statsmodels.api as sm\n",
    "from scipy.stats import chi2_contingency\n",
    "from sklearn.linear_model import LinearRegression"
   ]
  },
  {
   "cell_type": "code",
   "execution_count": 2,
   "id": "2058cc0e",
   "metadata": {},
   "outputs": [],
   "source": [
    "# chargement des données des fichiers csv\n",
    "\n",
    "produit     = pd.read_csv('products.csv')\n",
    "client      = pd.read_csv('customers.csv')\n",
    "transaction = pd.read_csv('transactions.csv')"
   ]
  },
  {
   "cell_type": "code",
   "execution_count": 3,
   "id": "89a5b9b0",
   "metadata": {},
   "outputs": [],
   "source": [
    "# Formatage du notebook \n",
    "\n",
    "# Création d'une classe nommée 'color' pour mettre en forme nos résultats.\n",
    "class color:\n",
    "   BLUE = '\\033[94m'\n",
    "   RED = '\\033[91m'\n",
    "   BOLD = '\\033[1m'\n",
    "   UNDERLINE = '\\033[4m'\n",
    "   END = '\\033[0m'"
   ]
  },
  {
   "cell_type": "markdown",
   "id": "64441f01",
   "metadata": {},
   "source": [
    "### <a id=\"A2\">2) Nettoyage et préparation des données</a>\n",
    "\n",
    "### <a id=\"A2.1\">1.Table Produit</a>"
   ]
  },
  {
   "cell_type": "code",
   "execution_count": 4,
   "id": "8ffc99f5",
   "metadata": {},
   "outputs": [
    {
     "data": {
      "text/html": [
       "<div>\n",
       "<style scoped>\n",
       "    .dataframe tbody tr th:only-of-type {\n",
       "        vertical-align: middle;\n",
       "    }\n",
       "\n",
       "    .dataframe tbody tr th {\n",
       "        vertical-align: top;\n",
       "    }\n",
       "\n",
       "    .dataframe thead th {\n",
       "        text-align: right;\n",
       "    }\n",
       "</style>\n",
       "<table border=\"1\" class=\"dataframe\">\n",
       "  <thead>\n",
       "    <tr style=\"text-align: right;\">\n",
       "      <th></th>\n",
       "      <th>id_prod</th>\n",
       "      <th>price</th>\n",
       "      <th>categ</th>\n",
       "    </tr>\n",
       "  </thead>\n",
       "  <tbody>\n",
       "    <tr>\n",
       "      <th>0</th>\n",
       "      <td>0_1421</td>\n",
       "      <td>19.99</td>\n",
       "      <td>0</td>\n",
       "    </tr>\n",
       "    <tr>\n",
       "      <th>1</th>\n",
       "      <td>0_1368</td>\n",
       "      <td>5.13</td>\n",
       "      <td>0</td>\n",
       "    </tr>\n",
       "    <tr>\n",
       "      <th>2</th>\n",
       "      <td>0_731</td>\n",
       "      <td>17.99</td>\n",
       "      <td>0</td>\n",
       "    </tr>\n",
       "    <tr>\n",
       "      <th>3</th>\n",
       "      <td>1_587</td>\n",
       "      <td>4.99</td>\n",
       "      <td>1</td>\n",
       "    </tr>\n",
       "    <tr>\n",
       "      <th>4</th>\n",
       "      <td>0_1507</td>\n",
       "      <td>3.99</td>\n",
       "      <td>0</td>\n",
       "    </tr>\n",
       "  </tbody>\n",
       "</table>\n",
       "</div>"
      ],
      "text/plain": [
       "  id_prod  price  categ\n",
       "0  0_1421  19.99      0\n",
       "1  0_1368   5.13      0\n",
       "2   0_731  17.99      0\n",
       "3   1_587   4.99      1\n",
       "4  0_1507   3.99      0"
      ]
     },
     "execution_count": 4,
     "metadata": {},
     "output_type": "execute_result"
    }
   ],
   "source": [
    "# Affichage de la table Produit\n",
    "\n",
    "produit = pd.read_csv('products.csv')\n",
    "produit.head()"
   ]
  },
  {
   "cell_type": "code",
   "execution_count": 5,
   "id": "74a2f1f0",
   "metadata": {},
   "outputs": [
    {
     "data": {
      "text/plain": [
       "(3287, 3)"
      ]
     },
     "execution_count": 5,
     "metadata": {},
     "output_type": "execute_result"
    }
   ],
   "source": [
    "# Vérification des dimensions du dataframe\n",
    "\n",
    "produit.shape"
   ]
  },
  {
   "cell_type": "code",
   "execution_count": 6,
   "id": "5bb6c4a3",
   "metadata": {},
   "outputs": [
    {
     "data": {
      "text/html": [
       "<div>\n",
       "<style scoped>\n",
       "    .dataframe tbody tr th:only-of-type {\n",
       "        vertical-align: middle;\n",
       "    }\n",
       "\n",
       "    .dataframe tbody tr th {\n",
       "        vertical-align: top;\n",
       "    }\n",
       "\n",
       "    .dataframe thead th {\n",
       "        text-align: right;\n",
       "    }\n",
       "</style>\n",
       "<table border=\"1\" class=\"dataframe\">\n",
       "  <thead>\n",
       "    <tr style=\"text-align: right;\">\n",
       "      <th></th>\n",
       "      <th>ref_produit</th>\n",
       "      <th>prix</th>\n",
       "      <th>categ</th>\n",
       "    </tr>\n",
       "  </thead>\n",
       "  <tbody>\n",
       "    <tr>\n",
       "      <th>0</th>\n",
       "      <td>0_1421</td>\n",
       "      <td>19.99</td>\n",
       "      <td>0</td>\n",
       "    </tr>\n",
       "    <tr>\n",
       "      <th>1</th>\n",
       "      <td>0_1368</td>\n",
       "      <td>5.13</td>\n",
       "      <td>0</td>\n",
       "    </tr>\n",
       "    <tr>\n",
       "      <th>2</th>\n",
       "      <td>0_731</td>\n",
       "      <td>17.99</td>\n",
       "      <td>0</td>\n",
       "    </tr>\n",
       "    <tr>\n",
       "      <th>3</th>\n",
       "      <td>1_587</td>\n",
       "      <td>4.99</td>\n",
       "      <td>1</td>\n",
       "    </tr>\n",
       "    <tr>\n",
       "      <th>4</th>\n",
       "      <td>0_1507</td>\n",
       "      <td>3.99</td>\n",
       "      <td>0</td>\n",
       "    </tr>\n",
       "  </tbody>\n",
       "</table>\n",
       "</div>"
      ],
      "text/plain": [
       "  ref_produit   prix  categ\n",
       "0      0_1421  19.99      0\n",
       "1      0_1368   5.13      0\n",
       "2       0_731  17.99      0\n",
       "3       1_587   4.99      1\n",
       "4      0_1507   3.99      0"
      ]
     },
     "execution_count": 6,
     "metadata": {},
     "output_type": "execute_result"
    }
   ],
   "source": [
    "# Renommage des variables\n",
    "\n",
    "produit.rename( columns ={'id_prod': 'ref_produit', 'price': 'prix'}, inplace = True)\n",
    "produit.head()"
   ]
  },
  {
   "cell_type": "code",
   "execution_count": 7,
   "id": "a073bc37",
   "metadata": {
    "scrolled": true
   },
   "outputs": [
    {
     "data": {
      "text/plain": [
       "ref_produit    0\n",
       "prix           0\n",
       "categ          0\n",
       "dtype: int64"
      ]
     },
     "execution_count": 7,
     "metadata": {},
     "output_type": "execute_result"
    }
   ],
   "source": [
    "# Vérificaton des valeurs manquantes\n",
    "\n",
    "produit.isnull().sum()"
   ]
  },
  {
   "cell_type": "code",
   "execution_count": 8,
   "id": "e3417af6",
   "metadata": {
    "scrolled": true
   },
   "outputs": [
    {
     "name": "stdout",
     "output_type": "stream",
     "text": [
      "La variable \u001b[1m 'ref_produit' est une clé primaire valide.\u001b[0m\n"
     ]
    }
   ],
   "source": [
    "# Vérification des doublons\n",
    "# Test de la validité de la variable 'ref_produit'  comme clé primaire\n",
    "\n",
    "doublons_produit = produit.duplicated(subset = 'ref_produit', keep = False).sum()\n",
    "\n",
    "if doublons_produit == 0:\n",
    "    print('La variable', color.BOLD+ \" 'ref_produit' est une clé primaire valide.\" +color.END)\n",
    "else:\n",
    "    print('La variable', color.BOLD+ \" 'ref_produit' n'est pas une clé primaire valide.\" +color.END)"
   ]
  },
  {
   "cell_type": "code",
   "execution_count": 9,
   "id": "2bb5528f",
   "metadata": {},
   "outputs": [
    {
     "data": {
      "text/plain": [
       "ref_produit     object\n",
       "prix           float64\n",
       "categ            int64\n",
       "dtype: object"
      ]
     },
     "execution_count": 9,
     "metadata": {},
     "output_type": "execute_result"
    }
   ],
   "source": [
    "# Vérification des erreurs de type\n",
    "\n",
    "produit.dtypes"
   ]
  },
  {
   "cell_type": "code",
   "execution_count": 10,
   "id": "02c80578",
   "metadata": {},
   "outputs": [
    {
     "data": {
      "text/plain": [
       "count    3287.000000\n",
       "mean       21.856641\n",
       "std        29.847908\n",
       "min        -1.000000\n",
       "25%         6.990000\n",
       "50%        13.060000\n",
       "75%        22.990000\n",
       "max       300.000000\n",
       "Name: prix, dtype: float64"
      ]
     },
     "execution_count": 10,
     "metadata": {},
     "output_type": "execute_result"
    }
   ],
   "source": [
    "# Vérification des valeurs aberrantes et atypiques sur le prix\n",
    "\n",
    "produit['prix'].describe()"
   ]
  },
  {
   "cell_type": "markdown",
   "id": "ca8cddf3",
   "metadata": {},
   "source": [
    ">La variable **'prix'** contient une **valeur négative**. Ce qui n'est pas possible en réalité. Pour éviter des incohérences dans les résultats, **cette ligne sera supprimée.**"
   ]
  },
  {
   "cell_type": "code",
   "execution_count": 11,
   "id": "67d7f9df",
   "metadata": {},
   "outputs": [
    {
     "name": "stdout",
     "output_type": "stream",
     "text": [
      "Lignes avec des valeurs négatives :\n"
     ]
    },
    {
     "data": {
      "text/html": [
       "<div>\n",
       "<style scoped>\n",
       "    .dataframe tbody tr th:only-of-type {\n",
       "        vertical-align: middle;\n",
       "    }\n",
       "\n",
       "    .dataframe tbody tr th {\n",
       "        vertical-align: top;\n",
       "    }\n",
       "\n",
       "    .dataframe thead th {\n",
       "        text-align: right;\n",
       "    }\n",
       "</style>\n",
       "<table border=\"1\" class=\"dataframe\">\n",
       "  <thead>\n",
       "    <tr style=\"text-align: right;\">\n",
       "      <th></th>\n",
       "      <th>ref_produit</th>\n",
       "      <th>prix</th>\n",
       "      <th>categ</th>\n",
       "    </tr>\n",
       "  </thead>\n",
       "  <tbody>\n",
       "    <tr>\n",
       "      <th>731</th>\n",
       "      <td>T_0</td>\n",
       "      <td>-1.0</td>\n",
       "      <td>0</td>\n",
       "    </tr>\n",
       "  </tbody>\n",
       "</table>\n",
       "</div>"
      ],
      "text/plain": [
       "    ref_produit  prix  categ\n",
       "731         T_0  -1.0      0"
      ]
     },
     "metadata": {},
     "output_type": "display_data"
    },
    {
     "data": {
      "text/html": [
       "<div>\n",
       "<style scoped>\n",
       "    .dataframe tbody tr th:only-of-type {\n",
       "        vertical-align: middle;\n",
       "    }\n",
       "\n",
       "    .dataframe tbody tr th {\n",
       "        vertical-align: top;\n",
       "    }\n",
       "\n",
       "    .dataframe thead th {\n",
       "        text-align: right;\n",
       "    }\n",
       "</style>\n",
       "<table border=\"1\" class=\"dataframe\">\n",
       "  <thead>\n",
       "    <tr style=\"text-align: right;\">\n",
       "      <th></th>\n",
       "      <th>prix</th>\n",
       "      <th>categ</th>\n",
       "    </tr>\n",
       "  </thead>\n",
       "  <tbody>\n",
       "    <tr>\n",
       "      <th>count</th>\n",
       "      <td>3286.000000</td>\n",
       "      <td>3286.000000</td>\n",
       "    </tr>\n",
       "    <tr>\n",
       "      <th>mean</th>\n",
       "      <td>21.863597</td>\n",
       "      <td>0.370359</td>\n",
       "    </tr>\n",
       "    <tr>\n",
       "      <th>std</th>\n",
       "      <td>29.849786</td>\n",
       "      <td>0.615446</td>\n",
       "    </tr>\n",
       "    <tr>\n",
       "      <th>min</th>\n",
       "      <td>0.620000</td>\n",
       "      <td>0.000000</td>\n",
       "    </tr>\n",
       "    <tr>\n",
       "      <th>25%</th>\n",
       "      <td>6.990000</td>\n",
       "      <td>0.000000</td>\n",
       "    </tr>\n",
       "    <tr>\n",
       "      <th>50%</th>\n",
       "      <td>13.075000</td>\n",
       "      <td>0.000000</td>\n",
       "    </tr>\n",
       "    <tr>\n",
       "      <th>75%</th>\n",
       "      <td>22.990000</td>\n",
       "      <td>1.000000</td>\n",
       "    </tr>\n",
       "    <tr>\n",
       "      <th>max</th>\n",
       "      <td>300.000000</td>\n",
       "      <td>2.000000</td>\n",
       "    </tr>\n",
       "  </tbody>\n",
       "</table>\n",
       "</div>"
      ],
      "text/plain": [
       "              prix        categ\n",
       "count  3286.000000  3286.000000\n",
       "mean     21.863597     0.370359\n",
       "std      29.849786     0.615446\n",
       "min       0.620000     0.000000\n",
       "25%       6.990000     0.000000\n",
       "50%      13.075000     0.000000\n",
       "75%      22.990000     1.000000\n",
       "max     300.000000     2.000000"
      ]
     },
     "execution_count": 11,
     "metadata": {},
     "output_type": "execute_result"
    }
   ],
   "source": [
    "# Affichage et suppression des valeurs négatives\n",
    "\n",
    "prix_neg = produit.loc[produit['prix'] < 0]\n",
    "\n",
    "print('Lignes avec des valeurs négatives :')\n",
    "display(prix_neg)\n",
    "produit.drop(prix_neg.index, inplace = True)\n",
    "\n",
    "# 2nde vérification de valeus aberrantes:\n",
    "\n",
    "produit.describe()"
   ]
  },
  {
   "cell_type": "code",
   "execution_count": 12,
   "id": "541f0ce5",
   "metadata": {},
   "outputs": [
    {
     "name": "stdout",
     "output_type": "stream",
     "text": [
      "\u001b[1mMesures statistiques de la variable 'prix':\u001b[0m\n",
      "Moyenne : 21.86\n",
      "Ecart-type : 29.85\n",
      "Médiane : 13.07\n",
      "Mode : 4.99\n",
      "Asymétrie : 3.80\n",
      "Curtose : 17.95\n"
     ]
    },
    {
     "data": {
      "image/png": "[encoded data removed]",
      "text/plain": [
       "<Figure size 576x432 with 1 Axes>"
      ]
     },
     "metadata": {
      "needs_background": "light"
     },
     "output_type": "display_data"
    }
   ],
   "source": [
    "# Analyse exploratoire de la variable 'prix':\n",
    "    \n",
    "# 1. Calcul des mesures de statistiques descriptives pour vérifier si les données sont normalement distribuées ou asymétriques\n",
    "    \n",
    "mean = produit['prix'].mean()\n",
    "std = produit['prix'].std()\n",
    "median = produit['prix'].median()\n",
    "mode = produit['prix'].mode()[0]\n",
    "skewness = produit['prix'].skew()\n",
    "kurtosis = produit['prix'].kurtosis()\n",
    "    \n",
    "print(color.BOLD+\"Mesures statistiques de la variable 'prix':\"+color.END)\n",
    "print(f\"Moyenne : {mean:.2f}\")\n",
    "print(f\"Ecart-type : {std:.2f}\")\n",
    "print(f\"Médiane : {median:.2f}\")\n",
    "print(f\"Mode : {mode:.2f}\")\n",
    "print(f\"Asymétrie : {skewness:.2f}\")\n",
    "print(f\"Curtose : {kurtosis:.2f}\")\n",
    "    \n",
    "# 2. Création d'un histogramme de la distribution des prix\n",
    "\n",
    "plt.figure(figsize=(8,6))\n",
    "sns.histplot(data=produit, x='prix', bins=50, kde=True, color='blue', alpha=0.5)\n",
    "sns.despine()\n",
    "plt.ylabel('Fréquence')\n",
    "plt.title('Histogramme de la Distribution des Prix')\n",
    "plt.show()"
   ]
  },
  {
   "cell_type": "markdown",
   "id": "01826a6e",
   "metadata": {},
   "source": [
    "\n",
    "En résumé:\n",
    "> - **Les Mesures Statistiques Descriptives et la Visualisation Graphique** démontrent que la **Distribution des Prix des Livres de la Librairie est Asymétrique à Droite**, avec une Médiane de **13.07€**, une Moyenne de **21.86€** et un Mode de **4.99€** (valeur la plus fréquente). \n",
    "> - La **forte Asymétrie et Curtose** de la Distribution signifie que la **Majorité des Prix de Livres sont inférieurs à la Moyenne**, mais que **quelques Livres ont des Prix très élevés**, ce qui étire la distribution vers les valeurs élevées."
   ]
  },
  {
   "cell_type": "markdown",
   "id": "7f8e308e",
   "metadata": {},
   "source": [
    "> Pour **détecter les valeurs aberrantes**, nous utilisons la méthode IQR(inter quartile range), car plus robuste aux distributions asymétriques et aux valeurs aberrantes que la methode z-score, plus adaptée aux distributions normales.\n",
    "\n",
    "> - **L'IQR** est une mesure de la dispersion des données qui est calculée comme la différence entre le troisième quartile (Q3) et le premier quartile (Q1). Les limites supérieures et inférieures sont définies comme Q3 + 1,5 * IQR et Q1 - 1,5 * IQR, respectivement. Toute valeur qui se situe en dehors de ces limites est considérée comme une valeur aberrante."
   ]
  },
  {
   "cell_type": "code",
   "execution_count": 13,
   "id": "d6d6a6f6",
   "metadata": {},
   "outputs": [
    {
     "name": "stdout",
     "output_type": "stream",
     "text": [
      "302 valeurs aberrantes ont été détectées selon la méthode IQR avec un seuil de 1.5. Soit 9.19 % des valeurs.\n",
      "\n",
      "Liste des Livres avec des Valeurs aberrantes de la Méthode IQR:\n"
     ]
    },
    {
     "data": {
      "text/html": [
       "<div>\n",
       "<style scoped>\n",
       "    .dataframe tbody tr th:only-of-type {\n",
       "        vertical-align: middle;\n",
       "    }\n",
       "\n",
       "    .dataframe tbody tr th {\n",
       "        vertical-align: top;\n",
       "    }\n",
       "\n",
       "    .dataframe thead th {\n",
       "        text-align: right;\n",
       "    }\n",
       "</style>\n",
       "<table border=\"1\" class=\"dataframe\">\n",
       "  <thead>\n",
       "    <tr style=\"text-align: right;\">\n",
       "      <th></th>\n",
       "      <th>ref_produit</th>\n",
       "      <th>prix</th>\n",
       "      <th>categ</th>\n",
       "    </tr>\n",
       "  </thead>\n",
       "  <tbody>\n",
       "    <tr>\n",
       "      <th>10</th>\n",
       "      <td>2_228</td>\n",
       "      <td>225.17</td>\n",
       "      <td>2</td>\n",
       "    </tr>\n",
       "    <tr>\n",
       "      <th>11</th>\n",
       "      <td>1_178</td>\n",
       "      <td>51.92</td>\n",
       "      <td>1</td>\n",
       "    </tr>\n",
       "    <tr>\n",
       "      <th>38</th>\n",
       "      <td>2_100</td>\n",
       "      <td>72.11</td>\n",
       "      <td>2</td>\n",
       "    </tr>\n",
       "    <tr>\n",
       "      <th>49</th>\n",
       "      <td>1_48</td>\n",
       "      <td>47.22</td>\n",
       "      <td>1</td>\n",
       "    </tr>\n",
       "    <tr>\n",
       "      <th>64</th>\n",
       "      <td>2_89</td>\n",
       "      <td>107.99</td>\n",
       "      <td>2</td>\n",
       "    </tr>\n",
       "    <tr>\n",
       "      <th>...</th>\n",
       "      <td>...</td>\n",
       "      <td>...</td>\n",
       "      <td>...</td>\n",
       "    </tr>\n",
       "    <tr>\n",
       "      <th>3267</th>\n",
       "      <td>2_101</td>\n",
       "      <td>63.99</td>\n",
       "      <td>2</td>\n",
       "    </tr>\n",
       "    <tr>\n",
       "      <th>3269</th>\n",
       "      <td>1_543</td>\n",
       "      <td>51.99</td>\n",
       "      <td>1</td>\n",
       "    </tr>\n",
       "    <tr>\n",
       "      <th>3271</th>\n",
       "      <td>2_123</td>\n",
       "      <td>147.99</td>\n",
       "      <td>2</td>\n",
       "    </tr>\n",
       "    <tr>\n",
       "      <th>3279</th>\n",
       "      <td>1_331</td>\n",
       "      <td>55.99</td>\n",
       "      <td>1</td>\n",
       "    </tr>\n",
       "    <tr>\n",
       "      <th>3282</th>\n",
       "      <td>2_23</td>\n",
       "      <td>115.99</td>\n",
       "      <td>2</td>\n",
       "    </tr>\n",
       "  </tbody>\n",
       "</table>\n",
       "<p>302 rows × 3 columns</p>\n",
       "</div>"
      ],
      "text/plain": [
       "     ref_produit    prix  categ\n",
       "10         2_228  225.17      2\n",
       "11         1_178   51.92      1\n",
       "38         2_100   72.11      2\n",
       "49          1_48   47.22      1\n",
       "64          2_89  107.99      2\n",
       "...          ...     ...    ...\n",
       "3267       2_101   63.99      2\n",
       "3269       1_543   51.99      1\n",
       "3271       2_123  147.99      2\n",
       "3279       1_331   55.99      1\n",
       "3282        2_23  115.99      2\n",
       "\n",
       "[302 rows x 3 columns]"
      ]
     },
     "metadata": {},
     "output_type": "display_data"
    },
    {
     "name": "stdout",
     "output_type": "stream",
     "text": [
      "Graphique de données selon la  Méthode IQR\n",
      " \n"
     ]
    },
    {
     "data": {
      "image/png": "[encoded data removed]",
      "text/plain": [
       "<Figure size 1008x432 with 1 Axes>"
      ]
     },
     "metadata": {},
     "output_type": "display_data"
    },
    {
     "name": "stdout",
     "output_type": "stream",
     "text": [
      " \n"
     ]
    },
    {
     "data": {
      "image/png": "[encoded data removed]",
      "text/plain": [
       "<Figure size 1296x432 with 2 Axes>"
      ]
     },
     "metadata": {},
     "output_type": "display_data"
    }
   ],
   "source": [
    "# Détection des Valeurs aberrantes de la variable 'prix' selon IQR \n",
    "\n",
    "# Détecter les valeurs aberrantes selon la méthode IQR\n",
    "Q1 = produit['prix'].quantile(0.25)\n",
    "Q3 = produit['prix'].quantile(0.75)\n",
    "IQR = Q3 - Q1\n",
    "seuil_iqr = 1.5\n",
    "lim_inf = Q1 - seuil_iqr * IQR\n",
    "lim_sup = Q3 + seuil_iqr * IQR\n",
    "outliers_iqr = produit[(produit['prix'] < lim_inf) | (produit['prix'] > lim_sup)]\n",
    "produit_sans_outliers = produit[((produit['prix'] > lim_inf) & (produit['prix'] < lim_sup))]\n",
    "\n",
    "pourcent= (len(outliers_iqr) / len(produit)) * 100\n",
    "# Afficher les valeurs aberrantes détectées\n",
    "print(f\"{len(outliers_iqr)} valeurs aberrantes ont été détectées selon la méthode IQR avec un seuil de {seuil_iqr}. Soit {pourcent:.2f} % des valeurs.\")\n",
    "print()\n",
    "print('Liste des Livres avec des Valeurs aberrantes de la Méthode IQR:')\n",
    "display(outliers_iqr)\n",
    "    \n",
    "# Résultat de la méthode IQR\n",
    "    \n",
    "print('Graphique de données selon la  Méthode IQR')\n",
    "\n",
    "# Création de l'histogramme:\n",
    "print()\n",
    "sns.set(style='whitegrid')\n",
    "plt.figure(figsize=(14, 6))\n",
    "sns.histplot(data=produit, x='prix', color='b')\n",
    "sns.histplot(data=outliers_iqr, x='prix', color='r', label='Outliers IQR')\n",
    "\n",
    "# Ajout des légendes\n",
    "plt.legend(labels=['Valeurs normales', 'Valeurs aberrantes'])\n",
    "plt.ylabel('Fréquence')\n",
    "plt.title('Détection des valeurs aberrantes à l\\'aide de la méthode IQR')\n",
    "plt.tight_layout()\n",
    "plt.show()\n",
    "    \n",
    "# Création des boxplots pour chaque méthode:\n",
    "print()\n",
    "sns.set(style='whitegrid')\n",
    "fig, (ax1, ax2) = plt.subplots(1, 2, figsize=(18, 6))\n",
    "sns.boxplot(data=produit, x='prix', color='b', ax=ax1)\n",
    "sns.boxplot(data=outliers_iqr, x='prix', color='r', ax=ax2)\n",
    "\n",
    "# Ajout des légendes et des noms d'axes\n",
    "ax1.set(title='Boxplot de la dispersion des données')\n",
    "ax2.set(title='Boxplot des valeurs aberrantes détectées à l\\'aide de la méthode IQR')\n",
    "plt.tight_layout()\n",
    "plt.show()"
   ]
  },
  {
   "cell_type": "markdown",
   "id": "1cdfab22",
   "metadata": {},
   "source": [
    "\n",
    "> On peut dire que la méthode de détection de valeurs aberrantes **IQR détecte plusieurs valeurs qui sont assez éloignées de la distribution principale des données**, ce qui suggère qu'il **peut y avoir des valeurs aberrantes dans le jeu de données**. Cependant, il est important **de déterminer si ces valeurs sont réellement des erreurs** ou **si elles sont nécessaires pour l'analyse.**"
   ]
  },
  {
   "cell_type": "code",
   "execution_count": 14,
   "id": "51dec7f3",
   "metadata": {},
   "outputs": [
    {
     "name": "stdout",
     "output_type": "stream",
     "text": [
      "Statistiques descriptives avec outliers :\n",
      " count    3286.000000\n",
      "mean       21.863597\n",
      "std        29.849786\n",
      "min         0.620000\n",
      "25%         6.990000\n",
      "50%        13.075000\n",
      "75%        22.990000\n",
      "max       300.000000\n",
      "Name: prix, dtype: float64\n",
      "\n",
      "Statistiques descriptives sans outliers :\n",
      " count    2984.000000\n",
      "mean       14.109427\n",
      "std         9.679829\n",
      "min         0.620000\n",
      "25%         6.570000\n",
      "50%        11.990000\n",
      "75%        19.290000\n",
      "max        46.950000\n",
      "Name: prix, dtype: float64\n",
      "\n",
      "Pourcentage de biais: 35.47 %\n"
     ]
    }
   ],
   "source": [
    "# Comparaison de statisques avec et sans outliers:\n",
    "\n",
    "stats_avec_outliers = produit['prix'].describe()\n",
    "stats_sans_outliers = produit_sans_outliers['prix'].describe()\n",
    "print(\"Statistiques descriptives avec outliers :\\n\", stats_avec_outliers)\n",
    "print('')\n",
    "print(\"Statistiques descriptives sans outliers :\\n\", stats_sans_outliers)\n",
    "print('')\n",
    "pourcent_biais = (produit['prix'].mean() - produit_sans_outliers['prix'].mean()) / produit['prix'].mean() * 100\n",
    "print('Pourcentage de biais:', f\"{pourcent_biais:.2f}\", '%')"
   ]
  },
  {
   "cell_type": "markdown",
   "id": "dc3b6523",
   "metadata": {},
   "source": [
    ">  En comparant les statistiques descriptives avec et sans outliers, on constate une différence significative dans la moyenne et la médiane:\n",
    "> - **avec les outliers l'écart est important entre la Moyenne de 21.86 et la Médiane de 13.07**. Ce qui signifie que la **distribution des prix est biaisée** vers les valeurs **les plus élevées** à cause des valeurs aberrantes. \n",
    "> - **sans les outliers l'écart est réduit entre la Moyenne de 14,11 et la Médiane de 11.99**. Cela suggère une distribution moins biaisée et plus centrée autour de la Médiane.\n",
    "> - **Le pourcentage de biais** montre que la présence de valeurs aberrantes entraine une augmentation de **35.47%** du prix moyen par rapport à la moyenne sans valeurs aberrantes. L'impact des outliers est donc important sur la tendance centrale des données. \n",
    "\n",
    "> Pour la suite des analyses, nous conserverons les valeurs aberrantes en supposant qu'elles sont bien réelles. Elles représentent **9,19%** de l'ensemble des données.\n"
   ]
  },
  {
   "cell_type": "markdown",
   "id": "f9c4227e",
   "metadata": {},
   "source": [
    "### <a id=\"A2.2\">2.Table Client</a>"
   ]
  },
  {
   "cell_type": "code",
   "execution_count": 15,
   "id": "4a0b208b",
   "metadata": {},
   "outputs": [
    {
     "data": {
      "text/html": [
       "<div>\n",
       "<style scoped>\n",
       "    .dataframe tbody tr th:only-of-type {\n",
       "        vertical-align: middle;\n",
       "    }\n",
       "\n",
       "    .dataframe tbody tr th {\n",
       "        vertical-align: top;\n",
       "    }\n",
       "\n",
       "    .dataframe thead th {\n",
       "        text-align: right;\n",
       "    }\n",
       "</style>\n",
       "<table border=\"1\" class=\"dataframe\">\n",
       "  <thead>\n",
       "    <tr style=\"text-align: right;\">\n",
       "      <th></th>\n",
       "      <th>client_id</th>\n",
       "      <th>sex</th>\n",
       "      <th>birth</th>\n",
       "    </tr>\n",
       "  </thead>\n",
       "  <tbody>\n",
       "    <tr>\n",
       "      <th>0</th>\n",
       "      <td>c_4410</td>\n",
       "      <td>f</td>\n",
       "      <td>1967</td>\n",
       "    </tr>\n",
       "    <tr>\n",
       "      <th>1</th>\n",
       "      <td>c_7839</td>\n",
       "      <td>f</td>\n",
       "      <td>1975</td>\n",
       "    </tr>\n",
       "    <tr>\n",
       "      <th>2</th>\n",
       "      <td>c_1699</td>\n",
       "      <td>f</td>\n",
       "      <td>1984</td>\n",
       "    </tr>\n",
       "    <tr>\n",
       "      <th>3</th>\n",
       "      <td>c_5961</td>\n",
       "      <td>f</td>\n",
       "      <td>1962</td>\n",
       "    </tr>\n",
       "    <tr>\n",
       "      <th>4</th>\n",
       "      <td>c_5320</td>\n",
       "      <td>m</td>\n",
       "      <td>1943</td>\n",
       "    </tr>\n",
       "  </tbody>\n",
       "</table>\n",
       "</div>"
      ],
      "text/plain": [
       "  client_id sex  birth\n",
       "0    c_4410   f   1967\n",
       "1    c_7839   f   1975\n",
       "2    c_1699   f   1984\n",
       "3    c_5961   f   1962\n",
       "4    c_5320   m   1943"
      ]
     },
     "execution_count": 15,
     "metadata": {},
     "output_type": "execute_result"
    }
   ],
   "source": [
    "# Affichage des données de Clients\n",
    "\n",
    "client = pd.read_csv('customers.csv')\n",
    "client.head()"
   ]
  },
  {
   "cell_type": "code",
   "execution_count": 16,
   "id": "d46f47ca",
   "metadata": {},
   "outputs": [
    {
     "data": {
      "text/plain": [
       "(8623, 3)"
      ]
     },
     "execution_count": 16,
     "metadata": {},
     "output_type": "execute_result"
    }
   ],
   "source": [
    "# Vérification des dimensions du dataframe\n",
    "\n",
    "client.shape"
   ]
  },
  {
   "cell_type": "code",
   "execution_count": 17,
   "id": "1f33f03f",
   "metadata": {},
   "outputs": [
    {
     "data": {
      "text/html": [
       "<div>\n",
       "<style scoped>\n",
       "    .dataframe tbody tr th:only-of-type {\n",
       "        vertical-align: middle;\n",
       "    }\n",
       "\n",
       "    .dataframe tbody tr th {\n",
       "        vertical-align: top;\n",
       "    }\n",
       "\n",
       "    .dataframe thead th {\n",
       "        text-align: right;\n",
       "    }\n",
       "</style>\n",
       "<table border=\"1\" class=\"dataframe\">\n",
       "  <thead>\n",
       "    <tr style=\"text-align: right;\">\n",
       "      <th></th>\n",
       "      <th>ref_client</th>\n",
       "      <th>sexe</th>\n",
       "      <th>annee_naiss</th>\n",
       "    </tr>\n",
       "  </thead>\n",
       "  <tbody>\n",
       "    <tr>\n",
       "      <th>0</th>\n",
       "      <td>c_4410</td>\n",
       "      <td>f</td>\n",
       "      <td>1967</td>\n",
       "    </tr>\n",
       "    <tr>\n",
       "      <th>1</th>\n",
       "      <td>c_7839</td>\n",
       "      <td>f</td>\n",
       "      <td>1975</td>\n",
       "    </tr>\n",
       "    <tr>\n",
       "      <th>2</th>\n",
       "      <td>c_1699</td>\n",
       "      <td>f</td>\n",
       "      <td>1984</td>\n",
       "    </tr>\n",
       "    <tr>\n",
       "      <th>3</th>\n",
       "      <td>c_5961</td>\n",
       "      <td>f</td>\n",
       "      <td>1962</td>\n",
       "    </tr>\n",
       "    <tr>\n",
       "      <th>4</th>\n",
       "      <td>c_5320</td>\n",
       "      <td>m</td>\n",
       "      <td>1943</td>\n",
       "    </tr>\n",
       "  </tbody>\n",
       "</table>\n",
       "</div>"
      ],
      "text/plain": [
       "  ref_client sexe  annee_naiss\n",
       "0     c_4410    f         1967\n",
       "1     c_7839    f         1975\n",
       "2     c_1699    f         1984\n",
       "3     c_5961    f         1962\n",
       "4     c_5320    m         1943"
      ]
     },
     "execution_count": 17,
     "metadata": {},
     "output_type": "execute_result"
    }
   ],
   "source": [
    "# Renommage des variables \n",
    "\n",
    "client.rename(columns = {'client_id': 'ref_client', 'sex': 'sexe', 'birth': 'annee_naiss'}, inplace = True)\n",
    "client.head()"
   ]
  },
  {
   "cell_type": "code",
   "execution_count": 18,
   "id": "706d1110",
   "metadata": {},
   "outputs": [
    {
     "data": {
      "text/plain": [
       "0    F\n",
       "1    F\n",
       "2    F\n",
       "3    F\n",
       "4    M\n",
       "Name: sexe, dtype: object"
      ]
     },
     "execution_count": 18,
     "metadata": {},
     "output_type": "execute_result"
    }
   ],
   "source": [
    "# Expression du 'genre' en majuscule\n",
    "\n",
    "client['sexe'] = client['sexe'].str.upper()\n",
    "client['sexe'].head()"
   ]
  },
  {
   "cell_type": "code",
   "execution_count": 19,
   "id": "49a4f8b1",
   "metadata": {},
   "outputs": [
    {
     "data": {
      "text/html": [
       "<div>\n",
       "<style scoped>\n",
       "    .dataframe tbody tr th:only-of-type {\n",
       "        vertical-align: middle;\n",
       "    }\n",
       "\n",
       "    .dataframe tbody tr th {\n",
       "        vertical-align: top;\n",
       "    }\n",
       "\n",
       "    .dataframe thead th {\n",
       "        text-align: right;\n",
       "    }\n",
       "</style>\n",
       "<table border=\"1\" class=\"dataframe\">\n",
       "  <thead>\n",
       "    <tr style=\"text-align: right;\">\n",
       "      <th></th>\n",
       "      <th>ref_client</th>\n",
       "      <th>sexe</th>\n",
       "      <th>annee_naiss</th>\n",
       "      <th>age</th>\n",
       "    </tr>\n",
       "  </thead>\n",
       "  <tbody>\n",
       "    <tr>\n",
       "      <th>0</th>\n",
       "      <td>c_4410</td>\n",
       "      <td>F</td>\n",
       "      <td>1967</td>\n",
       "      <td>56</td>\n",
       "    </tr>\n",
       "    <tr>\n",
       "      <th>1</th>\n",
       "      <td>c_7839</td>\n",
       "      <td>F</td>\n",
       "      <td>1975</td>\n",
       "      <td>48</td>\n",
       "    </tr>\n",
       "    <tr>\n",
       "      <th>2</th>\n",
       "      <td>c_1699</td>\n",
       "      <td>F</td>\n",
       "      <td>1984</td>\n",
       "      <td>39</td>\n",
       "    </tr>\n",
       "    <tr>\n",
       "      <th>3</th>\n",
       "      <td>c_5961</td>\n",
       "      <td>F</td>\n",
       "      <td>1962</td>\n",
       "      <td>61</td>\n",
       "    </tr>\n",
       "    <tr>\n",
       "      <th>4</th>\n",
       "      <td>c_5320</td>\n",
       "      <td>M</td>\n",
       "      <td>1943</td>\n",
       "      <td>80</td>\n",
       "    </tr>\n",
       "  </tbody>\n",
       "</table>\n",
       "</div>"
      ],
      "text/plain": [
       "  ref_client sexe  annee_naiss  age\n",
       "0     c_4410    F         1967   56\n",
       "1     c_7839    F         1975   48\n",
       "2     c_1699    F         1984   39\n",
       "3     c_5961    F         1962   61\n",
       "4     c_5320    M         1943   80"
      ]
     },
     "execution_count": 19,
     "metadata": {},
     "output_type": "execute_result"
    }
   ],
   "source": [
    "# Ajouter l'âge des clients\n",
    "\n",
    "client['age'] = datetime.now().year - client['annee_naiss']\n",
    "client.head()"
   ]
  },
  {
   "cell_type": "code",
   "execution_count": 20,
   "id": "b8b6e2a8",
   "metadata": {},
   "outputs": [
    {
     "data": {
      "text/html": [
       "<div>\n",
       "<style scoped>\n",
       "    .dataframe tbody tr th:only-of-type {\n",
       "        vertical-align: middle;\n",
       "    }\n",
       "\n",
       "    .dataframe tbody tr th {\n",
       "        vertical-align: top;\n",
       "    }\n",
       "\n",
       "    .dataframe thead th {\n",
       "        text-align: right;\n",
       "    }\n",
       "</style>\n",
       "<table border=\"1\" class=\"dataframe\">\n",
       "  <thead>\n",
       "    <tr style=\"text-align: right;\">\n",
       "      <th></th>\n",
       "      <th>ref_client</th>\n",
       "      <th>sexe</th>\n",
       "      <th>annee_naiss</th>\n",
       "      <th>age</th>\n",
       "      <th>groupe_age</th>\n",
       "    </tr>\n",
       "  </thead>\n",
       "  <tbody>\n",
       "    <tr>\n",
       "      <th>0</th>\n",
       "      <td>c_4410</td>\n",
       "      <td>F</td>\n",
       "      <td>1967</td>\n",
       "      <td>56</td>\n",
       "      <td>50-64</td>\n",
       "    </tr>\n",
       "    <tr>\n",
       "      <th>1</th>\n",
       "      <td>c_7839</td>\n",
       "      <td>F</td>\n",
       "      <td>1975</td>\n",
       "      <td>48</td>\n",
       "      <td>35-49</td>\n",
       "    </tr>\n",
       "    <tr>\n",
       "      <th>2</th>\n",
       "      <td>c_1699</td>\n",
       "      <td>F</td>\n",
       "      <td>1984</td>\n",
       "      <td>39</td>\n",
       "      <td>35-49</td>\n",
       "    </tr>\n",
       "    <tr>\n",
       "      <th>3</th>\n",
       "      <td>c_5961</td>\n",
       "      <td>F</td>\n",
       "      <td>1962</td>\n",
       "      <td>61</td>\n",
       "      <td>50-64</td>\n",
       "    </tr>\n",
       "    <tr>\n",
       "      <th>4</th>\n",
       "      <td>c_5320</td>\n",
       "      <td>M</td>\n",
       "      <td>1943</td>\n",
       "      <td>80</td>\n",
       "      <td>65-94</td>\n",
       "    </tr>\n",
       "  </tbody>\n",
       "</table>\n",
       "</div>"
      ],
      "text/plain": [
       "  ref_client sexe  annee_naiss  age groupe_age\n",
       "0     c_4410    F         1967   56      50-64\n",
       "1     c_7839    F         1975   48      35-49\n",
       "2     c_1699    F         1984   39      35-49\n",
       "3     c_5961    F         1962   61      50-64\n",
       "4     c_5320    M         1943   80      65-94"
      ]
     },
     "execution_count": 20,
     "metadata": {},
     "output_type": "execute_result"
    }
   ],
   "source": [
    "# Créer une variable 'groupe_age' en regroupant les âges en tranches\n",
    "\n",
    "bins = [18, 25, 35, 50, 65, 95]\n",
    "labels = ['18-24', '25-34', '35-49', '50-64', '65-94']\n",
    "client['groupe_age'] = pd.cut(client['age'], bins=bins, labels=labels, right=False)\n",
    "\n",
    "client.head()"
   ]
  },
  {
   "cell_type": "code",
   "execution_count": 21,
   "id": "a2f79c68",
   "metadata": {
    "scrolled": true
   },
   "outputs": [
    {
     "data": {
      "text/plain": [
       "ref_client     0\n",
       "sexe           0\n",
       "annee_naiss    0\n",
       "age            0\n",
       "groupe_age     0\n",
       "dtype: int64"
      ]
     },
     "execution_count": 21,
     "metadata": {},
     "output_type": "execute_result"
    }
   ],
   "source": [
    "# Vérification des Valeurs manquantes\n",
    "\n",
    "client.isna().sum()"
   ]
  },
  {
   "cell_type": "code",
   "execution_count": 22,
   "id": "1bf2c8de",
   "metadata": {},
   "outputs": [
    {
     "name": "stdout",
     "output_type": "stream",
     "text": [
      "La variable \u001b[1m 'ref_client' est une clé primaire valide.\u001b[0m\n"
     ]
    }
   ],
   "source": [
    "# Vérification des doublons\n",
    "# Test de la validité de la variable 'ref_client'  comme clé primaire\n",
    "\n",
    "doublons_client = client.duplicated(subset = 'ref_client', keep=False).sum()\n",
    "\n",
    "if doublons_client == 0:\n",
    "    print('La variable', color.BOLD+ \" 'ref_client' est une clé primaire valide.\" +color.END)\n",
    "else:\n",
    "    print('La variable', color.BOLD+ \" 'ref_client' n'est pas une clé primaire valide.\" +color.END)"
   ]
  },
  {
   "cell_type": "code",
   "execution_count": 23,
   "id": "160e414d",
   "metadata": {},
   "outputs": [
    {
     "data": {
      "text/plain": [
       "ref_client       object\n",
       "sexe             object\n",
       "annee_naiss       int64\n",
       "age               int64\n",
       "groupe_age     category\n",
       "dtype: object"
      ]
     },
     "execution_count": 23,
     "metadata": {},
     "output_type": "execute_result"
    }
   ],
   "source": [
    "# Vérification des erreurs de type\n",
    "\n",
    "client.dtypes"
   ]
  },
  {
   "cell_type": "code",
   "execution_count": 24,
   "id": "3028036c",
   "metadata": {},
   "outputs": [
    {
     "data": {
      "text/html": [
       "<div>\n",
       "<style scoped>\n",
       "    .dataframe tbody tr th:only-of-type {\n",
       "        vertical-align: middle;\n",
       "    }\n",
       "\n",
       "    .dataframe tbody tr th {\n",
       "        vertical-align: top;\n",
       "    }\n",
       "\n",
       "    .dataframe thead th {\n",
       "        text-align: right;\n",
       "    }\n",
       "</style>\n",
       "<table border=\"1\" class=\"dataframe\">\n",
       "  <thead>\n",
       "    <tr style=\"text-align: right;\">\n",
       "      <th></th>\n",
       "      <th>annee_naiss</th>\n",
       "      <th>age</th>\n",
       "    </tr>\n",
       "  </thead>\n",
       "  <tbody>\n",
       "    <tr>\n",
       "      <th>count</th>\n",
       "      <td>8623.000000</td>\n",
       "      <td>8623.000000</td>\n",
       "    </tr>\n",
       "    <tr>\n",
       "      <th>mean</th>\n",
       "      <td>1978.280877</td>\n",
       "      <td>44.719123</td>\n",
       "    </tr>\n",
       "    <tr>\n",
       "      <th>std</th>\n",
       "      <td>16.919535</td>\n",
       "      <td>16.919535</td>\n",
       "    </tr>\n",
       "    <tr>\n",
       "      <th>min</th>\n",
       "      <td>1929.000000</td>\n",
       "      <td>19.000000</td>\n",
       "    </tr>\n",
       "    <tr>\n",
       "      <th>25%</th>\n",
       "      <td>1966.000000</td>\n",
       "      <td>31.000000</td>\n",
       "    </tr>\n",
       "    <tr>\n",
       "      <th>50%</th>\n",
       "      <td>1979.000000</td>\n",
       "      <td>44.000000</td>\n",
       "    </tr>\n",
       "    <tr>\n",
       "      <th>75%</th>\n",
       "      <td>1992.000000</td>\n",
       "      <td>57.000000</td>\n",
       "    </tr>\n",
       "    <tr>\n",
       "      <th>max</th>\n",
       "      <td>2004.000000</td>\n",
       "      <td>94.000000</td>\n",
       "    </tr>\n",
       "  </tbody>\n",
       "</table>\n",
       "</div>"
      ],
      "text/plain": [
       "       annee_naiss          age\n",
       "count  8623.000000  8623.000000\n",
       "mean   1978.280877    44.719123\n",
       "std      16.919535    16.919535\n",
       "min    1929.000000    19.000000\n",
       "25%    1966.000000    31.000000\n",
       "50%    1979.000000    44.000000\n",
       "75%    1992.000000    57.000000\n",
       "max    2004.000000    94.000000"
      ]
     },
     "execution_count": 24,
     "metadata": {},
     "output_type": "execute_result"
    }
   ],
   "source": [
    "# Vérification des valeurs aberrantes et atypiques\n",
    "\n",
    "client.describe()"
   ]
  },
  {
   "cell_type": "markdown",
   "id": "c18ddde1",
   "metadata": {},
   "source": [
    "### <a id=\"A2.3\">3.Table Transaction</a>"
   ]
  },
  {
   "cell_type": "code",
   "execution_count": 25,
   "id": "bee1ac98",
   "metadata": {
    "scrolled": true
   },
   "outputs": [
    {
     "data": {
      "text/html": [
       "<div>\n",
       "<style scoped>\n",
       "    .dataframe tbody tr th:only-of-type {\n",
       "        vertical-align: middle;\n",
       "    }\n",
       "\n",
       "    .dataframe tbody tr th {\n",
       "        vertical-align: top;\n",
       "    }\n",
       "\n",
       "    .dataframe thead th {\n",
       "        text-align: right;\n",
       "    }\n",
       "</style>\n",
       "<table border=\"1\" class=\"dataframe\">\n",
       "  <thead>\n",
       "    <tr style=\"text-align: right;\">\n",
       "      <th></th>\n",
       "      <th>id_prod</th>\n",
       "      <th>date</th>\n",
       "      <th>session_id</th>\n",
       "      <th>client_id</th>\n",
       "    </tr>\n",
       "  </thead>\n",
       "  <tbody>\n",
       "    <tr>\n",
       "      <th>0</th>\n",
       "      <td>0_1518</td>\n",
       "      <td>2022-05-20 13:21:29.043970</td>\n",
       "      <td>s_211425</td>\n",
       "      <td>c_103</td>\n",
       "    </tr>\n",
       "    <tr>\n",
       "      <th>1</th>\n",
       "      <td>1_251</td>\n",
       "      <td>2022-02-02 07:55:19.149409</td>\n",
       "      <td>s_158752</td>\n",
       "      <td>c_8534</td>\n",
       "    </tr>\n",
       "    <tr>\n",
       "      <th>2</th>\n",
       "      <td>0_1277</td>\n",
       "      <td>2022-06-18 15:44:33.155329</td>\n",
       "      <td>s_225667</td>\n",
       "      <td>c_6714</td>\n",
       "    </tr>\n",
       "    <tr>\n",
       "      <th>3</th>\n",
       "      <td>2_209</td>\n",
       "      <td>2021-06-24 04:19:29.835891</td>\n",
       "      <td>s_52962</td>\n",
       "      <td>c_6941</td>\n",
       "    </tr>\n",
       "    <tr>\n",
       "      <th>4</th>\n",
       "      <td>0_1509</td>\n",
       "      <td>2023-01-11 08:22:08.194479</td>\n",
       "      <td>s_325227</td>\n",
       "      <td>c_4232</td>\n",
       "    </tr>\n",
       "  </tbody>\n",
       "</table>\n",
       "</div>"
      ],
      "text/plain": [
       "  id_prod                        date session_id client_id\n",
       "0  0_1518  2022-05-20 13:21:29.043970   s_211425     c_103\n",
       "1   1_251  2022-02-02 07:55:19.149409   s_158752    c_8534\n",
       "2  0_1277  2022-06-18 15:44:33.155329   s_225667    c_6714\n",
       "3   2_209  2021-06-24 04:19:29.835891    s_52962    c_6941\n",
       "4  0_1509  2023-01-11 08:22:08.194479   s_325227    c_4232"
      ]
     },
     "execution_count": 25,
     "metadata": {},
     "output_type": "execute_result"
    }
   ],
   "source": [
    "# Affichage des données de Transactions\n",
    "\n",
    "transaction = pd.read_csv('transactions.csv')\n",
    "transaction.head()"
   ]
  },
  {
   "cell_type": "code",
   "execution_count": 26,
   "id": "c64f8389",
   "metadata": {},
   "outputs": [
    {
     "data": {
      "text/plain": [
       "(679532, 4)"
      ]
     },
     "execution_count": 26,
     "metadata": {},
     "output_type": "execute_result"
    }
   ],
   "source": [
    "# Vérification des dimensions du dataframe\n",
    "\n",
    "transaction.shape"
   ]
  },
  {
   "cell_type": "code",
   "execution_count": 27,
   "id": "80280edb",
   "metadata": {
    "scrolled": true
   },
   "outputs": [
    {
     "data": {
      "text/plain": [
       "Index(['ref_produit', 'date', 'id_session', 'ref_client'], dtype='object')"
      ]
     },
     "execution_count": 27,
     "metadata": {},
     "output_type": "execute_result"
    }
   ],
   "source": [
    "# Renommage de variables\n",
    "\n",
    "transaction.rename(columns = {'id_prod': 'ref_produit','session_id': 'id_session', 'client_id': 'ref_client'}, inplace = True)\n",
    "transaction.columns"
   ]
  },
  {
   "cell_type": "code",
   "execution_count": 28,
   "id": "94fcf217",
   "metadata": {
    "scrolled": true
   },
   "outputs": [
    {
     "data": {
      "text/plain": [
       "ref_produit    0\n",
       "date           0\n",
       "id_session     0\n",
       "ref_client     0\n",
       "dtype: int64"
      ]
     },
     "execution_count": 28,
     "metadata": {},
     "output_type": "execute_result"
    }
   ],
   "source": [
    "# Vérification des Valeurs manquantes\n",
    "\n",
    "transaction.isna().sum()"
   ]
  },
  {
   "cell_type": "code",
   "execution_count": 29,
   "id": "e78dffcf",
   "metadata": {
    "scrolled": true
   },
   "outputs": [
    {
     "name": "stdout",
     "output_type": "stream",
     "text": [
      "Nombre de doublons: 126\n",
      "\n",
      "Liste des doublons:\n"
     ]
    },
    {
     "data": {
      "text/html": [
       "<div>\n",
       "<style scoped>\n",
       "    .dataframe tbody tr th:only-of-type {\n",
       "        vertical-align: middle;\n",
       "    }\n",
       "\n",
       "    .dataframe tbody tr th {\n",
       "        vertical-align: top;\n",
       "    }\n",
       "\n",
       "    .dataframe thead th {\n",
       "        text-align: right;\n",
       "    }\n",
       "</style>\n",
       "<table border=\"1\" class=\"dataframe\">\n",
       "  <thead>\n",
       "    <tr style=\"text-align: right;\">\n",
       "      <th></th>\n",
       "      <th>ref_produit</th>\n",
       "      <th>date</th>\n",
       "      <th>id_session</th>\n",
       "      <th>ref_client</th>\n",
       "    </tr>\n",
       "  </thead>\n",
       "  <tbody>\n",
       "    <tr>\n",
       "      <th>27778</th>\n",
       "      <td>T_0</td>\n",
       "      <td>test_2021-03-01 02:30:02.237437</td>\n",
       "      <td>s_0</td>\n",
       "      <td>ct_1</td>\n",
       "    </tr>\n",
       "    <tr>\n",
       "      <th>52424</th>\n",
       "      <td>T_0</td>\n",
       "      <td>test_2021-03-01 02:30:02.237419</td>\n",
       "      <td>s_0</td>\n",
       "      <td>ct_0</td>\n",
       "    </tr>\n",
       "    <tr>\n",
       "      <th>96687</th>\n",
       "      <td>T_0</td>\n",
       "      <td>test_2021-03-01 02:30:02.237412</td>\n",
       "      <td>s_0</td>\n",
       "      <td>ct_1</td>\n",
       "    </tr>\n",
       "    <tr>\n",
       "      <th>130188</th>\n",
       "      <td>T_0</td>\n",
       "      <td>test_2021-03-01 02:30:02.237419</td>\n",
       "      <td>s_0</td>\n",
       "      <td>ct_0</td>\n",
       "    </tr>\n",
       "    <tr>\n",
       "      <th>139339</th>\n",
       "      <td>T_0</td>\n",
       "      <td>test_2021-03-01 02:30:02.237443</td>\n",
       "      <td>s_0</td>\n",
       "      <td>ct_1</td>\n",
       "    </tr>\n",
       "    <tr>\n",
       "      <th>...</th>\n",
       "      <td>...</td>\n",
       "      <td>...</td>\n",
       "      <td>...</td>\n",
       "      <td>...</td>\n",
       "    </tr>\n",
       "    <tr>\n",
       "      <th>653098</th>\n",
       "      <td>T_0</td>\n",
       "      <td>test_2021-03-01 02:30:02.237432</td>\n",
       "      <td>s_0</td>\n",
       "      <td>ct_0</td>\n",
       "    </tr>\n",
       "    <tr>\n",
       "      <th>657830</th>\n",
       "      <td>T_0</td>\n",
       "      <td>test_2021-03-01 02:30:02.237417</td>\n",
       "      <td>s_0</td>\n",
       "      <td>ct_0</td>\n",
       "    </tr>\n",
       "    <tr>\n",
       "      <th>662081</th>\n",
       "      <td>T_0</td>\n",
       "      <td>test_2021-03-01 02:30:02.237427</td>\n",
       "      <td>s_0</td>\n",
       "      <td>ct_1</td>\n",
       "    </tr>\n",
       "    <tr>\n",
       "      <th>671647</th>\n",
       "      <td>T_0</td>\n",
       "      <td>test_2021-03-01 02:30:02.237424</td>\n",
       "      <td>s_0</td>\n",
       "      <td>ct_1</td>\n",
       "    </tr>\n",
       "    <tr>\n",
       "      <th>679180</th>\n",
       "      <td>T_0</td>\n",
       "      <td>test_2021-03-01 02:30:02.237425</td>\n",
       "      <td>s_0</td>\n",
       "      <td>ct_1</td>\n",
       "    </tr>\n",
       "  </tbody>\n",
       "</table>\n",
       "<p>126 rows × 4 columns</p>\n",
       "</div>"
      ],
      "text/plain": [
       "       ref_produit                             date id_session ref_client\n",
       "27778          T_0  test_2021-03-01 02:30:02.237437        s_0       ct_1\n",
       "52424          T_0  test_2021-03-01 02:30:02.237419        s_0       ct_0\n",
       "96687          T_0  test_2021-03-01 02:30:02.237412        s_0       ct_1\n",
       "130188         T_0  test_2021-03-01 02:30:02.237419        s_0       ct_0\n",
       "139339         T_0  test_2021-03-01 02:30:02.237443        s_0       ct_1\n",
       "...            ...                              ...        ...        ...\n",
       "653098         T_0  test_2021-03-01 02:30:02.237432        s_0       ct_0\n",
       "657830         T_0  test_2021-03-01 02:30:02.237417        s_0       ct_0\n",
       "662081         T_0  test_2021-03-01 02:30:02.237427        s_0       ct_1\n",
       "671647         T_0  test_2021-03-01 02:30:02.237424        s_0       ct_1\n",
       "679180         T_0  test_2021-03-01 02:30:02.237425        s_0       ct_1\n",
       "\n",
       "[126 rows x 4 columns]"
      ]
     },
     "execution_count": 29,
     "metadata": {},
     "output_type": "execute_result"
    }
   ],
   "source": [
    "# Vérification des doublons\n",
    "# Pour vérifier l'unicité de la table il faut prendre en compte au minimum les 3 premières colonnes\n",
    "\n",
    "doublons_transaction = transaction[['ref_produit', 'ref_client', 'date']].duplicated()\n",
    "print('Nombre de doublons:', doublons_transaction.sum())\n",
    "\n",
    "print('')\n",
    "print('Liste des doublons:')\n",
    "transaction[doublons_transaction]"
   ]
  },
  {
   "cell_type": "markdown",
   "id": "8d6fdf95",
   "metadata": {},
   "source": [
    ">Parmi les doublons, nous constatons qu'il y a beaucoup de dates qui sont précédés de 'test'. Vérifions le nombre total des lignes concernées par ces dates incorrectes. "
   ]
  },
  {
   "cell_type": "code",
   "execution_count": 30,
   "id": "918a8b0c",
   "metadata": {},
   "outputs": [
    {
     "name": "stdout",
     "output_type": "stream",
     "text": [
      "La Table Transaction contient \u001b[1m200 lignes avec des dates incorrectes.\u001b[0m Il est nécessaire d'avoir une explication sur ces données.\n",
      "\n",
      "Liste des dates incorrectes:\n"
     ]
    },
    {
     "data": {
      "text/html": [
       "<div>\n",
       "<style scoped>\n",
       "    .dataframe tbody tr th:only-of-type {\n",
       "        vertical-align: middle;\n",
       "    }\n",
       "\n",
       "    .dataframe tbody tr th {\n",
       "        vertical-align: top;\n",
       "    }\n",
       "\n",
       "    .dataframe thead th {\n",
       "        text-align: right;\n",
       "    }\n",
       "</style>\n",
       "<table border=\"1\" class=\"dataframe\">\n",
       "  <thead>\n",
       "    <tr style=\"text-align: right;\">\n",
       "      <th></th>\n",
       "      <th>ref_produit</th>\n",
       "      <th>date</th>\n",
       "      <th>id_session</th>\n",
       "      <th>ref_client</th>\n",
       "    </tr>\n",
       "  </thead>\n",
       "  <tbody>\n",
       "    <tr>\n",
       "      <th>3019</th>\n",
       "      <td>T_0</td>\n",
       "      <td>test_2021-03-01 02:30:02.237419</td>\n",
       "      <td>s_0</td>\n",
       "      <td>ct_0</td>\n",
       "    </tr>\n",
       "    <tr>\n",
       "      <th>5138</th>\n",
       "      <td>T_0</td>\n",
       "      <td>test_2021-03-01 02:30:02.237425</td>\n",
       "      <td>s_0</td>\n",
       "      <td>ct_0</td>\n",
       "    </tr>\n",
       "    <tr>\n",
       "      <th>9668</th>\n",
       "      <td>T_0</td>\n",
       "      <td>test_2021-03-01 02:30:02.237437</td>\n",
       "      <td>s_0</td>\n",
       "      <td>ct_1</td>\n",
       "    </tr>\n",
       "    <tr>\n",
       "      <th>10728</th>\n",
       "      <td>T_0</td>\n",
       "      <td>test_2021-03-01 02:30:02.237436</td>\n",
       "      <td>s_0</td>\n",
       "      <td>ct_0</td>\n",
       "    </tr>\n",
       "    <tr>\n",
       "      <th>15292</th>\n",
       "      <td>T_0</td>\n",
       "      <td>test_2021-03-01 02:30:02.237430</td>\n",
       "      <td>s_0</td>\n",
       "      <td>ct_0</td>\n",
       "    </tr>\n",
       "    <tr>\n",
       "      <th>...</th>\n",
       "      <td>...</td>\n",
       "      <td>...</td>\n",
       "      <td>...</td>\n",
       "      <td>...</td>\n",
       "    </tr>\n",
       "    <tr>\n",
       "      <th>657830</th>\n",
       "      <td>T_0</td>\n",
       "      <td>test_2021-03-01 02:30:02.237417</td>\n",
       "      <td>s_0</td>\n",
       "      <td>ct_0</td>\n",
       "    </tr>\n",
       "    <tr>\n",
       "      <th>662081</th>\n",
       "      <td>T_0</td>\n",
       "      <td>test_2021-03-01 02:30:02.237427</td>\n",
       "      <td>s_0</td>\n",
       "      <td>ct_1</td>\n",
       "    </tr>\n",
       "    <tr>\n",
       "      <th>670680</th>\n",
       "      <td>T_0</td>\n",
       "      <td>test_2021-03-01 02:30:02.237449</td>\n",
       "      <td>s_0</td>\n",
       "      <td>ct_1</td>\n",
       "    </tr>\n",
       "    <tr>\n",
       "      <th>671647</th>\n",
       "      <td>T_0</td>\n",
       "      <td>test_2021-03-01 02:30:02.237424</td>\n",
       "      <td>s_0</td>\n",
       "      <td>ct_1</td>\n",
       "    </tr>\n",
       "    <tr>\n",
       "      <th>679180</th>\n",
       "      <td>T_0</td>\n",
       "      <td>test_2021-03-01 02:30:02.237425</td>\n",
       "      <td>s_0</td>\n",
       "      <td>ct_1</td>\n",
       "    </tr>\n",
       "  </tbody>\n",
       "</table>\n",
       "<p>200 rows × 4 columns</p>\n",
       "</div>"
      ],
      "text/plain": [
       "       ref_produit                             date id_session ref_client\n",
       "3019           T_0  test_2021-03-01 02:30:02.237419        s_0       ct_0\n",
       "5138           T_0  test_2021-03-01 02:30:02.237425        s_0       ct_0\n",
       "9668           T_0  test_2021-03-01 02:30:02.237437        s_0       ct_1\n",
       "10728          T_0  test_2021-03-01 02:30:02.237436        s_0       ct_0\n",
       "15292          T_0  test_2021-03-01 02:30:02.237430        s_0       ct_0\n",
       "...            ...                              ...        ...        ...\n",
       "657830         T_0  test_2021-03-01 02:30:02.237417        s_0       ct_0\n",
       "662081         T_0  test_2021-03-01 02:30:02.237427        s_0       ct_1\n",
       "670680         T_0  test_2021-03-01 02:30:02.237449        s_0       ct_1\n",
       "671647         T_0  test_2021-03-01 02:30:02.237424        s_0       ct_1\n",
       "679180         T_0  test_2021-03-01 02:30:02.237425        s_0       ct_1\n",
       "\n",
       "[200 rows x 4 columns]"
      ]
     },
     "execution_count": 30,
     "metadata": {},
     "output_type": "execute_result"
    }
   ],
   "source": [
    "# Vérification des dates contenant 'test'\n",
    "\n",
    "dates_test = transaction.loc[transaction['date'].str.contains('test_')]\n",
    "print('La Table Transaction contient', color.BOLD+ f\"{dates_test.shape[0]:,}\", 'lignes avec des dates incorrectes.'+color.END, 'Il est nécessaire d\\'avoir une explication sur ces données.')\n",
    "print('')\n",
    "print('Liste des dates incorrectes:')\n",
    "dates_test"
   ]
  },
  {
   "cell_type": "code",
   "execution_count": 31,
   "id": "732b7cfb",
   "metadata": {},
   "outputs": [
    {
     "name": "stdout",
     "output_type": "stream",
     "text": [
      "Valeurs uniques dans ref_produit:\n"
     ]
    },
    {
     "data": {
      "text/plain": [
       "array(['T_0'], dtype=object)"
      ]
     },
     "metadata": {},
     "output_type": "display_data"
    },
    {
     "name": "stdout",
     "output_type": "stream",
     "text": [
      "Valeurs uniques dans date:\n"
     ]
    },
    {
     "data": {
      "text/plain": [
       "array(['test_2021-03-01 02:30:02.237419',\n",
       "       'test_2021-03-01 02:30:02.237425',\n",
       "       'test_2021-03-01 02:30:02.237437',\n",
       "       'test_2021-03-01 02:30:02.237436',\n",
       "       'test_2021-03-01 02:30:02.237430',\n",
       "       'test_2021-03-01 02:30:02.237449',\n",
       "       'test_2021-03-01 02:30:02.237444',\n",
       "       'test_2021-03-01 02:30:02.237418',\n",
       "       'test_2021-03-01 02:30:02.237445',\n",
       "       'test_2021-03-01 02:30:02.237426',\n",
       "       'test_2021-03-01 02:30:02.237434',\n",
       "       'test_2021-03-01 02:30:02.237441',\n",
       "       'test_2021-03-01 02:30:02.237440',\n",
       "       'test_2021-03-01 02:30:02.237438',\n",
       "       'test_2021-03-01 02:30:02.237427',\n",
       "       'test_2021-03-01 02:30:02.237413',\n",
       "       'test_2021-03-01 02:30:02.237412',\n",
       "       'test_2021-03-01 02:30:02.237432',\n",
       "       'test_2021-03-01 02:30:02.237420',\n",
       "       'test_2021-03-01 02:30:02.237415',\n",
       "       'test_2021-03-01 02:30:02.237443',\n",
       "       'test_2021-03-01 02:30:02.237431',\n",
       "       'test_2021-03-01 02:30:02.237446',\n",
       "       'test_2021-03-01 02:30:02.237428',\n",
       "       'test_2021-03-01 02:30:02.237435',\n",
       "       'test_2021-03-01 02:30:02.237429',\n",
       "       'test_2021-03-01 02:30:02.237417',\n",
       "       'test_2021-03-01 02:30:02.237414',\n",
       "       'test_2021-03-01 02:30:02.237416',\n",
       "       'test_2021-03-01 02:30:02.237442',\n",
       "       'test_2021-03-01 02:30:02.237424',\n",
       "       'test_2021-03-01 02:30:02.237450',\n",
       "       'test_2021-03-01 02:30:02.237439',\n",
       "       'test_2021-03-01 02:30:02.237423',\n",
       "       'test_2021-03-01 02:30:02.237447',\n",
       "       'test_2021-03-01 02:30:02.237433',\n",
       "       'test_2021-03-01 02:30:02.237421',\n",
       "       'test_2021-03-01 02:30:02.237448',\n",
       "       'test_2021-03-01 02:30:02.237422'], dtype=object)"
      ]
     },
     "metadata": {},
     "output_type": "display_data"
    },
    {
     "name": "stdout",
     "output_type": "stream",
     "text": [
      "Valeurs uniques dans id_session:\n"
     ]
    },
    {
     "data": {
      "text/plain": [
       "array(['s_0'], dtype=object)"
      ]
     },
     "metadata": {},
     "output_type": "display_data"
    },
    {
     "name": "stdout",
     "output_type": "stream",
     "text": [
      "Valeurs uniques dans ref_client:\n"
     ]
    },
    {
     "data": {
      "text/plain": [
       "array(['ct_0', 'ct_1'], dtype=object)"
      ]
     },
     "execution_count": 31,
     "metadata": {},
     "output_type": "execute_result"
    }
   ],
   "source": [
    "# vérification des valeurs uniques de chaque variable\n",
    "\n",
    "print('Valeurs uniques dans ref_produit:')\n",
    "display(dates_test['ref_produit'].unique())\n",
    "print('Valeurs uniques dans date:')\n",
    "display(dates_test['date'].unique())\n",
    "print('Valeurs uniques dans id_session:')\n",
    "display(dates_test['id_session'].unique())\n",
    "print('Valeurs uniques dans ref_client:')\n",
    "dates_test['ref_client'].unique()"
   ]
  },
  {
   "cell_type": "markdown",
   "id": "99d2448e",
   "metadata": {},
   "source": [
    ">**Après une vérification plus approfondie de ces 200 lignes,** nous constatons qu'elles correspondent à des **transactions** réalisées sur le **même produit 'T_0' à la même date**. **Il se peut que ces lignes résultent d'un test ou un beug.**\n",
    "A cause de l'incertitude, nous les supprimons de nos analyses."
   ]
  },
  {
   "cell_type": "code",
   "execution_count": 32,
   "id": "f088a5cd",
   "metadata": {},
   "outputs": [
    {
     "name": "stdout",
     "output_type": "stream",
     "text": [
      "Nombre de lignes restant: 679332\n",
      "Nombre de doublons: 0\n"
     ]
    }
   ],
   "source": [
    "# Suppression des 200 lignes non conformes\n",
    "\n",
    "transaction = transaction.drop(dates_test.index)\n",
    "print('Nombre de lignes restant:', transaction.shape[0])\n",
    "\n",
    "# Revérification des doublons\n",
    "\n",
    "doublons_transaction = transaction[['ref_produit', 'ref_client', 'date']].duplicated()\n",
    "print('Nombre de doublons:', doublons_transaction.sum())"
   ]
  },
  {
   "cell_type": "code",
   "execution_count": 33,
   "id": "3a66aa52",
   "metadata": {},
   "outputs": [
    {
     "data": {
      "text/plain": [
       "ref_produit    object\n",
       "date           object\n",
       "id_session     object\n",
       "ref_client     object\n",
       "dtype: object"
      ]
     },
     "execution_count": 33,
     "metadata": {},
     "output_type": "execute_result"
    }
   ],
   "source": [
    "# Vérification des erreurs de type\n",
    "transaction.dtypes"
   ]
  },
  {
   "cell_type": "code",
   "execution_count": 34,
   "id": "492676d5",
   "metadata": {
    "scrolled": true
   },
   "outputs": [
    {
     "name": "stdout",
     "output_type": "stream",
     "text": [
      "Type de la variable date: datetime64[ns]\n"
     ]
    },
    {
     "data": {
      "text/html": [
       "<div>\n",
       "<style scoped>\n",
       "    .dataframe tbody tr th:only-of-type {\n",
       "        vertical-align: middle;\n",
       "    }\n",
       "\n",
       "    .dataframe tbody tr th {\n",
       "        vertical-align: top;\n",
       "    }\n",
       "\n",
       "    .dataframe thead th {\n",
       "        text-align: right;\n",
       "    }\n",
       "</style>\n",
       "<table border=\"1\" class=\"dataframe\">\n",
       "  <thead>\n",
       "    <tr style=\"text-align: right;\">\n",
       "      <th></th>\n",
       "      <th>ref_produit</th>\n",
       "      <th>date</th>\n",
       "      <th>id_session</th>\n",
       "      <th>ref_client</th>\n",
       "      <th>jour</th>\n",
       "      <th>mois</th>\n",
       "      <th>annee</th>\n",
       "    </tr>\n",
       "  </thead>\n",
       "  <tbody>\n",
       "    <tr>\n",
       "      <th>0</th>\n",
       "      <td>0_1518</td>\n",
       "      <td>2022-05-20 13:21:29.043970</td>\n",
       "      <td>s_211425</td>\n",
       "      <td>c_103</td>\n",
       "      <td>20</td>\n",
       "      <td>5</td>\n",
       "      <td>2022</td>\n",
       "    </tr>\n",
       "    <tr>\n",
       "      <th>1</th>\n",
       "      <td>1_251</td>\n",
       "      <td>2022-02-02 07:55:19.149409</td>\n",
       "      <td>s_158752</td>\n",
       "      <td>c_8534</td>\n",
       "      <td>2</td>\n",
       "      <td>2</td>\n",
       "      <td>2022</td>\n",
       "    </tr>\n",
       "    <tr>\n",
       "      <th>2</th>\n",
       "      <td>0_1277</td>\n",
       "      <td>2022-06-18 15:44:33.155329</td>\n",
       "      <td>s_225667</td>\n",
       "      <td>c_6714</td>\n",
       "      <td>18</td>\n",
       "      <td>6</td>\n",
       "      <td>2022</td>\n",
       "    </tr>\n",
       "    <tr>\n",
       "      <th>3</th>\n",
       "      <td>2_209</td>\n",
       "      <td>2021-06-24 04:19:29.835891</td>\n",
       "      <td>s_52962</td>\n",
       "      <td>c_6941</td>\n",
       "      <td>24</td>\n",
       "      <td>6</td>\n",
       "      <td>2021</td>\n",
       "    </tr>\n",
       "    <tr>\n",
       "      <th>4</th>\n",
       "      <td>0_1509</td>\n",
       "      <td>2023-01-11 08:22:08.194479</td>\n",
       "      <td>s_325227</td>\n",
       "      <td>c_4232</td>\n",
       "      <td>11</td>\n",
       "      <td>1</td>\n",
       "      <td>2023</td>\n",
       "    </tr>\n",
       "  </tbody>\n",
       "</table>\n",
       "</div>"
      ],
      "text/plain": [
       "  ref_produit                       date id_session ref_client  jour  mois  \\\n",
       "0      0_1518 2022-05-20 13:21:29.043970   s_211425      c_103    20     5   \n",
       "1       1_251 2022-02-02 07:55:19.149409   s_158752     c_8534     2     2   \n",
       "2      0_1277 2022-06-18 15:44:33.155329   s_225667     c_6714    18     6   \n",
       "3       2_209 2021-06-24 04:19:29.835891    s_52962     c_6941    24     6   \n",
       "4      0_1509 2023-01-11 08:22:08.194479   s_325227     c_4232    11     1   \n",
       "\n",
       "   annee  \n",
       "0   2022  \n",
       "1   2022  \n",
       "2   2022  \n",
       "3   2021  \n",
       "4   2023  "
      ]
     },
     "execution_count": 34,
     "metadata": {},
     "output_type": "execute_result"
    }
   ],
   "source": [
    "# Conversion de la variable 'date' en format de date\n",
    "transaction['date'] = pd.to_datetime(transaction['date'], format='%Y-%m-%d %H:%M:%S.%f')\n",
    "print(\"Type de la variable date:\", transaction['date'].dtypes)\n",
    "\n",
    "# Ajout des variables 'jour', 'mois' et 'annee'\n",
    "transaction['jour'] = transaction['date'].dt.day\n",
    "transaction['mois'] = transaction['date'].dt.month\n",
    "transaction['annee'] = transaction['date'].dt.year\n",
    "\n",
    "transaction.head()"
   ]
  },
  {
   "cell_type": "code",
   "execution_count": 35,
   "id": "39057978",
   "metadata": {
    "scrolled": true
   },
   "outputs": [
    {
     "data": {
      "text/plain": [
       "count                         679332\n",
       "unique                        679332\n",
       "top       2022-05-20 13:21:29.043970\n",
       "freq                               1\n",
       "first     2021-03-01 00:01:07.843138\n",
       "last      2023-02-28 23:58:30.792755\n",
       "Name: date, dtype: object"
      ]
     },
     "execution_count": 35,
     "metadata": {},
     "output_type": "execute_result"
    }
   ],
   "source": [
    "# Vérification de valeurs aberrantes et atypiques\n",
    "\n",
    "transaction['date'].describe()"
   ]
  },
  {
   "cell_type": "code",
   "execution_count": 36,
   "id": "290675e5",
   "metadata": {},
   "outputs": [
    {
     "data": {
      "text/html": [
       "<div>\n",
       "<style scoped>\n",
       "    .dataframe tbody tr th:only-of-type {\n",
       "        vertical-align: middle;\n",
       "    }\n",
       "\n",
       "    .dataframe tbody tr th {\n",
       "        vertical-align: top;\n",
       "    }\n",
       "\n",
       "    .dataframe thead th {\n",
       "        text-align: right;\n",
       "    }\n",
       "</style>\n",
       "<table border=\"1\" class=\"dataframe\">\n",
       "  <thead>\n",
       "    <tr style=\"text-align: right;\">\n",
       "      <th></th>\n",
       "      <th>ref_produit</th>\n",
       "      <th>date</th>\n",
       "      <th>jour</th>\n",
       "      <th>mois</th>\n",
       "      <th>annee</th>\n",
       "      <th>quantite</th>\n",
       "      <th>id_session</th>\n",
       "      <th>ref_client</th>\n",
       "    </tr>\n",
       "  </thead>\n",
       "  <tbody>\n",
       "    <tr>\n",
       "      <th>0</th>\n",
       "      <td>0_1518</td>\n",
       "      <td>2022-05-20 13:21:29.043970</td>\n",
       "      <td>20</td>\n",
       "      <td>5</td>\n",
       "      <td>2022</td>\n",
       "      <td>1</td>\n",
       "      <td>s_211425</td>\n",
       "      <td>c_103</td>\n",
       "    </tr>\n",
       "    <tr>\n",
       "      <th>1</th>\n",
       "      <td>1_251</td>\n",
       "      <td>2022-02-02 07:55:19.149409</td>\n",
       "      <td>2</td>\n",
       "      <td>2</td>\n",
       "      <td>2022</td>\n",
       "      <td>1</td>\n",
       "      <td>s_158752</td>\n",
       "      <td>c_8534</td>\n",
       "    </tr>\n",
       "    <tr>\n",
       "      <th>2</th>\n",
       "      <td>0_1277</td>\n",
       "      <td>2022-06-18 15:44:33.155329</td>\n",
       "      <td>18</td>\n",
       "      <td>6</td>\n",
       "      <td>2022</td>\n",
       "      <td>1</td>\n",
       "      <td>s_225667</td>\n",
       "      <td>c_6714</td>\n",
       "    </tr>\n",
       "    <tr>\n",
       "      <th>3</th>\n",
       "      <td>2_209</td>\n",
       "      <td>2021-06-24 04:19:29.835891</td>\n",
       "      <td>24</td>\n",
       "      <td>6</td>\n",
       "      <td>2021</td>\n",
       "      <td>1</td>\n",
       "      <td>s_52962</td>\n",
       "      <td>c_6941</td>\n",
       "    </tr>\n",
       "    <tr>\n",
       "      <th>4</th>\n",
       "      <td>0_1509</td>\n",
       "      <td>2023-01-11 08:22:08.194479</td>\n",
       "      <td>11</td>\n",
       "      <td>1</td>\n",
       "      <td>2023</td>\n",
       "      <td>1</td>\n",
       "      <td>s_325227</td>\n",
       "      <td>c_4232</td>\n",
       "    </tr>\n",
       "    <tr>\n",
       "      <th>...</th>\n",
       "      <td>...</td>\n",
       "      <td>...</td>\n",
       "      <td>...</td>\n",
       "      <td>...</td>\n",
       "      <td>...</td>\n",
       "      <td>...</td>\n",
       "      <td>...</td>\n",
       "      <td>...</td>\n",
       "    </tr>\n",
       "    <tr>\n",
       "      <th>679527</th>\n",
       "      <td>0_1551</td>\n",
       "      <td>2022-01-15 13:05:06.246925</td>\n",
       "      <td>15</td>\n",
       "      <td>1</td>\n",
       "      <td>2022</td>\n",
       "      <td>1</td>\n",
       "      <td>s_150195</td>\n",
       "      <td>c_8489</td>\n",
       "    </tr>\n",
       "    <tr>\n",
       "      <th>679528</th>\n",
       "      <td>1_639</td>\n",
       "      <td>2022-03-19 16:03:23.429229</td>\n",
       "      <td>19</td>\n",
       "      <td>3</td>\n",
       "      <td>2022</td>\n",
       "      <td>1</td>\n",
       "      <td>s_181434</td>\n",
       "      <td>c_4370</td>\n",
       "    </tr>\n",
       "    <tr>\n",
       "      <th>679529</th>\n",
       "      <td>0_1425</td>\n",
       "      <td>2022-12-20 04:33:37.584749</td>\n",
       "      <td>20</td>\n",
       "      <td>12</td>\n",
       "      <td>2022</td>\n",
       "      <td>1</td>\n",
       "      <td>s_314704</td>\n",
       "      <td>c_304</td>\n",
       "    </tr>\n",
       "    <tr>\n",
       "      <th>679530</th>\n",
       "      <td>0_1994</td>\n",
       "      <td>2021-07-16 20:36:35.350579</td>\n",
       "      <td>16</td>\n",
       "      <td>7</td>\n",
       "      <td>2021</td>\n",
       "      <td>1</td>\n",
       "      <td>s_63204</td>\n",
       "      <td>c_2227</td>\n",
       "    </tr>\n",
       "    <tr>\n",
       "      <th>679531</th>\n",
       "      <td>1_523</td>\n",
       "      <td>2022-09-28 01:12:01.973763</td>\n",
       "      <td>28</td>\n",
       "      <td>9</td>\n",
       "      <td>2022</td>\n",
       "      <td>1</td>\n",
       "      <td>s_274568</td>\n",
       "      <td>c_3873</td>\n",
       "    </tr>\n",
       "  </tbody>\n",
       "</table>\n",
       "<p>679332 rows × 8 columns</p>\n",
       "</div>"
      ],
      "text/plain": [
       "       ref_produit                       date  jour  mois  annee  quantite  \\\n",
       "0           0_1518 2022-05-20 13:21:29.043970    20     5   2022         1   \n",
       "1            1_251 2022-02-02 07:55:19.149409     2     2   2022         1   \n",
       "2           0_1277 2022-06-18 15:44:33.155329    18     6   2022         1   \n",
       "3            2_209 2021-06-24 04:19:29.835891    24     6   2021         1   \n",
       "4           0_1509 2023-01-11 08:22:08.194479    11     1   2023         1   \n",
       "...            ...                        ...   ...   ...    ...       ...   \n",
       "679527      0_1551 2022-01-15 13:05:06.246925    15     1   2022         1   \n",
       "679528       1_639 2022-03-19 16:03:23.429229    19     3   2022         1   \n",
       "679529      0_1425 2022-12-20 04:33:37.584749    20    12   2022         1   \n",
       "679530      0_1994 2021-07-16 20:36:35.350579    16     7   2021         1   \n",
       "679531       1_523 2022-09-28 01:12:01.973763    28     9   2022         1   \n",
       "\n",
       "       id_session ref_client  \n",
       "0        s_211425      c_103  \n",
       "1        s_158752     c_8534  \n",
       "2        s_225667     c_6714  \n",
       "3         s_52962     c_6941  \n",
       "4        s_325227     c_4232  \n",
       "...           ...        ...  \n",
       "679527   s_150195     c_8489  \n",
       "679528   s_181434     c_4370  \n",
       "679529   s_314704      c_304  \n",
       "679530    s_63204     c_2227  \n",
       "679531   s_274568     c_3873  \n",
       "\n",
       "[679332 rows x 8 columns]"
      ]
     },
     "execution_count": 36,
     "metadata": {},
     "output_type": "execute_result"
    }
   ],
   "source": [
    "# Ajout de la varaible quantité pour exprimer le nombre de ventes avec pour valeur par défaut 1\n",
    "\n",
    "transaction['quantite'] = 1\n",
    "transaction = transaction[['ref_produit', 'date', 'jour', 'mois', 'annee', 'quantite', 'id_session', 'ref_client']]\n",
    "transaction"
   ]
  }
 ],
 "metadata": {
  "kernelspec": {
   "display_name": "Python 3 (ipykernel)",
   "language": "python",
   "name": "python3"
  },
  "language_info": {
   "codemirror_mode": {
    "name": "ipython",
    "version": 3
   },
   "file_extension": ".py",
   "mimetype": "text/x-python",
   "name": "python",
   "nbconvert_exporter": "python",
   "pygments_lexer": "ipython3",
   "version": "3.9.12"
  }
 },
 "nbformat": 4,
 "nbformat_minor": 5
}
